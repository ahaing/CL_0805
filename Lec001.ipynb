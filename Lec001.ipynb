{
 "cells": [
  {
   "cell_type": "code",
   "execution_count": 3,
   "metadata": {},
   "outputs": [
    {
     "data": {
      "text/plain": [
       "{0, 1, 5, 6, 7, 8, 9}"
      ]
     },
     "execution_count": 3,
     "metadata": {},
     "output_type": "execute_result"
    }
   ],
   "source": [
    "set1:set = {1,6,7,8,9,5,9,0}  #set 裡面的資料不能重複，重複會被移除\n",
    "# 多一個: 可以明確告訴型別\n",
    "# set. 可以跳出可以用的方法(?)\n",
    "set1\n"
   ]
  },
  {
   "cell_type": "markdown",
   "metadata": {},
   "source": [
    "Would you like Visual Studio Code to periodically run \"git fetch\"?\n",
    "fetch:擷取\n",
    "=> repo 內有甚麼則強制拉進來；自動把 repo 裡面的資料抓一份進來，自動在不同瀏覽器 or VScode 中執行"
   ]
  },
  {
   "cell_type": "code",
   "execution_count": 4,
   "metadata": {},
   "outputs": [
    {
     "data": {
      "text/plain": [
       "{0, 1, 5, 6, 7, 8, 9, 12}"
      ]
     },
     "execution_count": 4,
     "metadata": {},
     "output_type": "execute_result"
    }
   ],
   "source": [
    "set2 = set1\n",
    "set2\n",
    "set2.add(12)\n",
    "set2"
   ]
  },
  {
   "cell_type": "code",
   "execution_count": 5,
   "metadata": {},
   "outputs": [
    {
     "name": "stdout",
     "output_type": "stream",
     "text": [
      "0\n",
      "1\n",
      "5\n",
      "6\n",
      "7\n",
      "8\n",
      "9\n",
      "12\n"
     ]
    }
   ],
   "source": [
    "for value in set2:  # 要用 for 把裡面的值一個一個抓出來\n",
    "    print(value)"
   ]
  },
  {
   "cell_type": "markdown",
   "metadata": {},
   "source": [
    "齒輪> 找: 命令選擇區>  打 codespace (show 所有與 codespace 有關的指令)\n",
    "or Ctrl shift p > 叫出命令選擇區\n",
    "pip install --upgrade numpy"
   ]
  },
  {
   "cell_type": "markdown",
   "metadata": {},
   "source": [
    "google numpy /n\n",
    "documentation /n\n",
    "api reference /n\n",
    "routines /n\n",
    "array creation routines\n",
    "只有numpy說明書上面才有方法的說明\n",
    "\n"
   ]
  },
  {
   "cell_type": "code",
   "execution_count": 16,
   "metadata": {},
   "outputs": [
    {
     "data": {
      "text/plain": [
       "array([ 2,  3,  4,  5,  6,  7,  8,  9, 10])"
      ]
     },
     "execution_count": 16,
     "metadata": {},
     "output_type": "execute_result"
    }
   ],
   "source": [
    "import numpy as np # 把 numpy 縮寫成 np\n",
    "array1 = np.array(range(1,11)) # 先用array1接收，之後才能看裡面的值是甚麼\n",
    "array1:np.ndarray # ndarray\n",
    "array1:np.ndarray = np.array(range(2,11)) \n",
    "array1\n"
   ]
  },
  {
   "cell_type": "code",
   "execution_count": 18,
   "metadata": {},
   "outputs": [
    {
     "data": {
      "text/plain": [
       "array([902, 903, 904, 905, 906, 907, 908, 909, 910])"
      ]
     },
     "execution_count": 18,
     "metadata": {},
     "output_type": "execute_result"
    }
   ],
   "source": [
    "array2 = array1\n",
    "array2 + 10*90"
   ]
  },
  {
   "cell_type": "code",
   "execution_count": 19,
   "metadata": {},
   "outputs": [
    {
     "data": {
      "text/plain": [
       "array([1.3, 1.4, 1.5, 1.6, 1.7, 1.8, 1.9, 2. , 2.1, 2.2, 2.3, 2.4, 2.5,\n",
       "       2.6, 2.7, 2.8, 2.9, 3. , 3.1, 3.2, 3.3, 3.4])"
      ]
     },
     "execution_count": 19,
     "metadata": {},
     "output_type": "execute_result"
    }
   ],
   "source": [
    "np.arange(1.3, 3.5, 0.1) # range 只能做整數 / numpy 可以用小數點\n",
    "# display 只可以在 jupter notebook 裡面執行\n",
    "\n"
   ]
  },
  {
   "cell_type": "code",
   "execution_count": 24,
   "metadata": {},
   "outputs": [
    {
     "data": {
      "text/plain": [
       "array([100.3  , 100.301, 100.302, ..., 300.497, 300.498, 300.499])"
      ]
     },
     "metadata": {},
     "output_type": "display_data"
    },
    {
     "data": {
      "text/plain": [
       "array([200.        , 205.26315789, 210.52631579, 215.78947368,\n",
       "       221.05263158, 226.31578947, 231.57894737, 236.84210526,\n",
       "       242.10526316, 247.36842105, 252.63157895, 257.89473684,\n",
       "       263.15789474, 268.42105263, 273.68421053, 278.94736842,\n",
       "       284.21052632, 289.47368421, 294.73684211, 300.        ])"
      ]
     },
     "metadata": {},
     "output_type": "display_data"
    }
   ],
   "source": [
    "# 如果底下要顯示要用 display\n",
    "display(np.arange(100.3, 300.5, 0.001) )\n",
    "display(np.linspace(200,300,20))"
   ]
  },
  {
   "cell_type": "markdown",
   "metadata": {},
   "source": [
    "NumPy reference  \n",
    "Routines  \n",
    "Random sampling (numpy.random)  \n",
    "\n",
    "搜尋: numpy.random.randn"
   ]
  },
  {
   "cell_type": "code",
   "execution_count": null,
   "metadata": {},
   "outputs": [],
   "source": []
  }
 ],
 "metadata": {
  "kernelspec": {
   "display_name": "Python 3",
   "language": "python",
   "name": "python3"
  },
  "language_info": {
   "codemirror_mode": {
    "name": "ipython",
    "version": 3
   },
   "file_extension": ".py",
   "mimetype": "text/x-python",
   "name": "python",
   "nbconvert_exporter": "python",
   "pygments_lexer": "ipython3",
   "version": "3.10.8"
  },
  "orig_nbformat": 4
 },
 "nbformat": 4,
 "nbformat_minor": 2
}
