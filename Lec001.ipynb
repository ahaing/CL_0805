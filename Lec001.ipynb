{
 "cells": [
  {
   "cell_type": "code",
   "execution_count": 3,
   "metadata": {},
   "outputs": [
    {
     "data": {
      "text/plain": [
       "{0, 1, 5, 6, 7, 8, 9}"
      ]
     },
     "execution_count": 3,
     "metadata": {},
     "output_type": "execute_result"
    }
   ],
   "source": [
    "set1:set = {1,6,7,8,9,5,9,0}  #set 裡面的資料不能重複，重複會被移除\n",
    "# 多一個: 可以明確告訴型別\n",
    "# set. 可以跳出可以用的方法(?)\n",
    "set1\n"
   ]
  },
  {
   "cell_type": "markdown",
   "metadata": {},
   "source": [
    "Would you like Visual Studio Code to periodically run \"git fetch\"?\n",
    "fetch:擷取\n",
    "=> repo 內有甚麼則強制拉進來；自動把 repo 裡面的資料抓一份進來，自動在不同瀏覽器 or VScode 中執行"
   ]
  },
  {
   "cell_type": "code",
   "execution_count": 4,
   "metadata": {},
   "outputs": [
    {
     "data": {
      "text/plain": [
       "{0, 1, 5, 6, 7, 8, 9, 12}"
      ]
     },
     "execution_count": 4,
     "metadata": {},
     "output_type": "execute_result"
    }
   ],
   "source": [
    "set2 = set1\n",
    "set2\n",
    "set2.add(12)\n",
    "set2"
   ]
  },
  {
   "cell_type": "code",
   "execution_count": 5,
   "metadata": {},
   "outputs": [
    {
     "name": "stdout",
     "output_type": "stream",
     "text": [
      "0\n",
      "1\n",
      "5\n",
      "6\n",
      "7\n",
      "8\n",
      "9\n",
      "12\n"
     ]
    }
   ],
   "source": [
    "for value in set2:  # 要用 for 把裡面的值一個一個抓出來\n",
    "    print(value)"
   ]
  },
  {
   "cell_type": "markdown",
   "metadata": {},
   "source": [
    "齒輪> 找: 命令選擇區>  打 codespace (show 所有與 codespace 有關的指令)\n",
    "or Ctrl shift p > 叫出命令選擇區\n",
    "pip install --upgrade numpy"
   ]
  },
  {
   "cell_type": "markdown",
   "metadata": {},
   "source": [
    "google numpy\n",
    "documentation\n",
    "api reference\n",
    "routines\n"
   ]
  },
  {
   "cell_type": "code",
   "execution_count": 16,
   "metadata": {},
   "outputs": [
    {
     "data": {
      "text/plain": [
       "array([ 2,  3,  4,  5,  6,  7,  8,  9, 10])"
      ]
     },
     "execution_count": 16,
     "metadata": {},
     "output_type": "execute_result"
    }
   ],
   "source": [
    "import numpy as np # 把 numpy 縮寫成 np\n",
    "array1 = np.array(range(1,11)) # 先用array1接收，之後才能看裡面的值是甚麼\n",
    "array1:np.ndarray # ndarray\n",
    "array1:np.ndarray = np.array(range(2,11)) \n",
    "array1\n"
   ]
  },
  {
   "cell_type": "code",
   "execution_count": 18,
   "metadata": {},
   "outputs": [
    {
     "data": {
      "text/plain": [
       "array([902, 903, 904, 905, 906, 907, 908, 909, 910])"
      ]
     },
     "execution_count": 18,
     "metadata": {},
     "output_type": "execute_result"
    }
   ],
   "source": [
    "array2 = array1\n",
    "array2 + 10*90"
   ]
  }
 ],
 "metadata": {
  "kernelspec": {
   "display_name": "Python 3",
   "language": "python",
   "name": "python3"
  },
  "language_info": {
   "codemirror_mode": {
    "name": "ipython",
    "version": 3
   },
   "file_extension": ".py",
   "mimetype": "text/x-python",
   "name": "python",
   "nbconvert_exporter": "python",
   "pygments_lexer": "ipython3",
   "version": "3.10.8"
  },
  "orig_nbformat": 4
 },
 "nbformat": 4,
 "nbformat_minor": 2
}
