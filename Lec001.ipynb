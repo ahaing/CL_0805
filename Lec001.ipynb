{
 "cells": [
  {
   "cell_type": "code",
   "execution_count": 3,
   "metadata": {},
   "outputs": [
    {
     "data": {
      "text/plain": [
       "{0, 1, 5, 6, 7, 8, 9}"
      ]
     },
     "execution_count": 3,
     "metadata": {},
     "output_type": "execute_result"
    }
   ],
   "source": [
    "set1:set = {1,6,7,8,9,5,9,0}  #set 裡面的資料不能重複，重複會被移除\n",
    "# 多一個: 可以明確告訴型別\n",
    "# set. 可以跳出可以用的方法(?)\n",
    "set1\n"
   ]
  },
  {
   "cell_type": "markdown",
   "metadata": {},
   "source": [
    "Would you like Visual Studio Code to periodically run \"git fetch\"?\n",
    "fetch:擷取\n",
    "=> repo 內有甚麼則強制拉進來；自動把 repo 裡面的資料抓一份進來，自動在不同瀏覽器 or VScode 中執行"
   ]
  },
  {
   "cell_type": "code",
   "execution_count": 4,
   "metadata": {},
   "outputs": [
    {
     "data": {
      "text/plain": [
       "{0, 1, 5, 6, 7, 8, 9, 12}"
      ]
     },
     "execution_count": 4,
     "metadata": {},
     "output_type": "execute_result"
    }
   ],
   "source": [
    "set2 = set1\n",
    "set2\n",
    "set2.add(12)\n",
    "set2"
   ]
  },
  {
   "cell_type": "code",
   "execution_count": 5,
   "metadata": {},
   "outputs": [
    {
     "name": "stdout",
     "output_type": "stream",
     "text": [
      "0\n",
      "1\n",
      "5\n",
      "6\n",
      "7\n",
      "8\n",
      "9\n",
      "12\n"
     ]
    }
   ],
   "source": [
    "for value in set2:  # 要用 for 把裡面的值一個一個抓出來\n",
    "    print(value)"
   ]
  }
 ],
 "metadata": {
  "kernelspec": {
   "display_name": "Python 3",
   "language": "python",
   "name": "python3"
  },
  "language_info": {
   "codemirror_mode": {
    "name": "ipython",
    "version": 3
   },
   "file_extension": ".py",
   "mimetype": "text/x-python",
   "name": "python",
   "nbconvert_exporter": "python",
   "pygments_lexer": "ipython3",
   "version": "3.10.8"
  },
  "orig_nbformat": 4
 },
 "nbformat": 4,
 "nbformat_minor": 2
}
