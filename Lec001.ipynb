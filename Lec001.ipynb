{
 "cells": [
  {
   "cell_type": "code",
   "execution_count": 3,
   "metadata": {},
   "outputs": [
    {
     "data": {
      "text/plain": [
       "{0, 1, 5, 6, 7, 8, 9}"
      ]
     },
     "execution_count": 3,
     "metadata": {},
     "output_type": "execute_result"
    }
   ],
   "source": [
    "set1:set = {1,6,7,8,9,5,9,0}  #set 裡面的資料不能重複，重複會被移除\n",
    "# 多一個: 可以明確告訴型別\n",
    "# set. 可以跳出可以用的方法(?)\n",
    "set1\n"
   ]
  },
  {
   "cell_type": "markdown",
   "metadata": {},
   "source": [
    "Would you like Visual Studio Code to periodically run \"git fetch\"?\n",
    "fetch:擷取\n",
    "=> repo 內有甚麼則強制拉進來；自動把 repo 裡面的資料抓一份進來，自動在不同瀏覽器 or VScode 中執行"
   ]
  },
  {
   "cell_type": "code",
   "execution_count": 4,
   "metadata": {},
   "outputs": [
    {
     "data": {
      "text/plain": [
       "{0, 1, 5, 6, 7, 8, 9, 12}"
      ]
     },
     "execution_count": 4,
     "metadata": {},
     "output_type": "execute_result"
    }
   ],
   "source": [
    "set2 = set1\n",
    "set2\n",
    "set2.add(12)\n",
    "set2"
   ]
  },
  {
   "cell_type": "code",
   "execution_count": 5,
   "metadata": {},
   "outputs": [
    {
     "name": "stdout",
     "output_type": "stream",
     "text": [
      "0\n",
      "1\n",
      "5\n",
      "6\n",
      "7\n",
      "8\n",
      "9\n",
      "12\n"
     ]
    }
   ],
   "source": [
    "for value in set2:  # 要用 for 把裡面的值一個一個抓出來\n",
    "    print(value)"
   ]
  },
  {
   "cell_type": "markdown",
   "metadata": {},
   "source": [
    "齒輪> 找: 命令選擇區>  打 codespace (show 所有與 codespace 有關的指令)  \n",
    "or Ctrl shift p > 叫出命令選擇區  \n",
    "pip install --upgrade numpy"
   ]
  },
  {
   "cell_type": "markdown",
   "metadata": {},
   "source": [
    "google numpy  \n",
    "documentation  \n",
    "api reference  \n",
    "routines  \n",
    "array creation routines   \n",
    "只有numpy說明書上面才有方法的說明  \n",
    "\n"
   ]
  },
  {
   "cell_type": "code",
   "execution_count": 16,
   "metadata": {},
   "outputs": [
    {
     "data": {
      "text/plain": [
       "array([ 2,  3,  4,  5,  6,  7,  8,  9, 10])"
      ]
     },
     "execution_count": 16,
     "metadata": {},
     "output_type": "execute_result"
    }
   ],
   "source": [
    "import numpy as np # 把 numpy 縮寫成 np\n",
    "array1 = np.array(range(1,11)) # 先用array1接收，之後才能看裡面的值是甚麼\n",
    "array1:np.ndarray # ndarray\n",
    "array1:np.ndarray = np.array(range(2,11)) \n",
    "array1\n"
   ]
  },
  {
   "cell_type": "code",
   "execution_count": 18,
   "metadata": {},
   "outputs": [
    {
     "data": {
      "text/plain": [
       "array([902, 903, 904, 905, 906, 907, 908, 909, 910])"
      ]
     },
     "execution_count": 18,
     "metadata": {},
     "output_type": "execute_result"
    }
   ],
   "source": [
    "array2 = array1\n",
    "array2 + 10*90"
   ]
  },
  {
   "cell_type": "code",
   "execution_count": 19,
   "metadata": {},
   "outputs": [
    {
     "data": {
      "text/plain": [
       "array([1.3, 1.4, 1.5, 1.6, 1.7, 1.8, 1.9, 2. , 2.1, 2.2, 2.3, 2.4, 2.5,\n",
       "       2.6, 2.7, 2.8, 2.9, 3. , 3.1, 3.2, 3.3, 3.4])"
      ]
     },
     "execution_count": 19,
     "metadata": {},
     "output_type": "execute_result"
    }
   ],
   "source": [
    "np.arange(1.3, 3.5, 0.1) # range 只能做整數 / numpy 可以用小數點\n",
    "# display 只可以在 jupter notebook 裡面執行\n",
    "\n"
   ]
  },
  {
   "cell_type": "code",
   "execution_count": 24,
   "metadata": {},
   "outputs": [
    {
     "data": {
      "text/plain": [
       "array([100.3  , 100.301, 100.302, ..., 300.497, 300.498, 300.499])"
      ]
     },
     "metadata": {},
     "output_type": "display_data"
    },
    {
     "data": {
      "text/plain": [
       "array([200.        , 205.26315789, 210.52631579, 215.78947368,\n",
       "       221.05263158, 226.31578947, 231.57894737, 236.84210526,\n",
       "       242.10526316, 247.36842105, 252.63157895, 257.89473684,\n",
       "       263.15789474, 268.42105263, 273.68421053, 278.94736842,\n",
       "       284.21052632, 289.47368421, 294.73684211, 300.        ])"
      ]
     },
     "metadata": {},
     "output_type": "display_data"
    }
   ],
   "source": [
    "# 如果底下要顯示要用 display\n",
    "display(np.arange(100.3, 300.5, 0.001) )\n",
    "display(np.linspace(200,300,20))"
   ]
  },
  {
   "cell_type": "markdown",
   "metadata": {},
   "source": [
    "NumPy reference  \n",
    "Routines  \n",
    "Random sampling (numpy.random)  \n",
    "\n",
    "搜尋: numpy.random.randn\n",
    "random.randn(d0, d1, ..., dn)  \n",
    "Return a sample (or samples) from the “standard normal” distribution.  "
   ]
  },
  {
   "cell_type": "code",
   "execution_count": 8,
   "metadata": {},
   "outputs": [
    {
     "data": {
      "text/plain": [
       "0.5921822577666908"
      ]
     },
     "metadata": {},
     "output_type": "display_data"
    },
    {
     "data": {
      "text/plain": [
       "array([[[ 1.26703806,  0.67732423, -0.65484131],\n",
       "        [-1.56649046, -0.32243538,  1.03186136],\n",
       "        [-1.27152223,  0.29512906, -1.81808166],\n",
       "        [-1.24312259, -0.00620527,  0.335985  ],\n",
       "        [-0.90793031, -0.80382143,  0.9424363 ]],\n",
       "\n",
       "       [[ 0.60879549, -0.79737512,  0.76950152],\n",
       "        [-2.34721787,  1.54953702,  0.50822905],\n",
       "        [ 1.00150273, -1.18862299, -0.1878379 ],\n",
       "        [-1.30563136,  0.21931457,  0.66267164],\n",
       "        [-0.10383136, -0.66291724,  1.1069117 ]],\n",
       "\n",
       "       [[-1.09894646,  0.45788653,  1.05209619],\n",
       "        [-2.15681735, -0.96899847, -1.88190477],\n",
       "        [ 1.78315255, -1.98398553, -0.84751999],\n",
       "        [-0.57814276, -0.23478249,  1.87878332],\n",
       "        [-0.2656875 , -1.48861172,  0.60559257]],\n",
       "\n",
       "       [[ 0.49994067,  0.54146237,  0.43465024],\n",
       "        [ 1.30483423,  0.44212298,  0.11815451],\n",
       "        [-0.86954989, -0.61923032, -0.4610297 ],\n",
       "        [-0.0102898 , -0.81739307, -0.19496052],\n",
       "        [ 1.25490675, -0.33630969, -0.39151409]],\n",
       "\n",
       "       [[-0.23218282,  0.95525966, -1.10913447],\n",
       "        [ 2.1560196 , -0.83953314,  1.2163055 ],\n",
       "        [ 2.12102245, -0.09244503, -2.09566468],\n",
       "        [-0.65833909,  0.09055071, -0.80764147],\n",
       "        [ 0.98763489, -1.14787881, -1.11381429]],\n",
       "\n",
       "       [[-0.37107393, -0.97618022,  0.46713659],\n",
       "        [ 1.50814069, -0.94092162, -1.76571793],\n",
       "        [-1.37564733,  0.10432513, -0.13593491],\n",
       "        [ 1.07908317, -0.83326638, -2.03709187],\n",
       "        [ 0.38862204, -0.70270584, -1.75677889]],\n",
       "\n",
       "       [[ 0.17392959, -1.47319884, -1.02069762],\n",
       "        [ 0.46588192,  0.16701288, -1.21383504],\n",
       "        [-1.57760359, -0.94537604, -0.27215086],\n",
       "        [ 1.39917843,  1.17590722,  0.27329146],\n",
       "        [ 1.60389258, -0.64252543,  0.71248977]],\n",
       "\n",
       "       [[-1.52726239,  0.17578808,  1.52459706],\n",
       "        [-0.8655733 , -0.2210785 ,  0.47428798],\n",
       "        [-0.87280185, -0.97526449,  0.00925603],\n",
       "        [ 0.09643992, -0.8324506 ,  1.58066852],\n",
       "        [ 0.71719657, -2.23353257, -0.71136704]],\n",
       "\n",
       "       [[-1.83411938, -0.49823725,  0.4856518 ],\n",
       "        [-0.48412871, -1.18244028,  0.59593943],\n",
       "        [-0.16984176, -0.53718789, -0.29491849],\n",
       "        [ 2.03317184,  0.46537096, -1.08702818],\n",
       "        [-0.63079483,  1.69411088,  2.40935501]],\n",
       "\n",
       "       [[-0.29129051,  0.12946049, -0.19180566],\n",
       "        [-0.20605014, -0.78562154,  0.37706909],\n",
       "        [ 0.80910998,  3.07773601,  0.67329843],\n",
       "        [ 0.26156752, -0.63772433,  0.03778532],\n",
       "        [-0.06446055,  1.02222924, -0.416073  ]]])"
      ]
     },
     "metadata": {},
     "output_type": "display_data"
    }
   ],
   "source": [
    "display(np.random.random())\n",
    "display(np.random.randn(10,5,3)) # 3D 的亂數資料"
   ]
  },
  {
   "cell_type": "markdown",
   "metadata": {},
   "source": [
    "# display(np.random.randint)\n",
    "\n",
    " 從 numpy 裡面搜尋 randint\n",
    "=> numpy.random.randint\n",
    "\n",
    "=> random.randint(low, high=None, size=None, dtype=int)\n",
    "=> sizeint or tuple of ints, optional\n",
    " numpy 產生出來的叫 ndarray (???)"
   ]
  },
  {
   "cell_type": "code",
   "execution_count": 15,
   "metadata": {},
   "outputs": [
    {
     "data": {
      "text/plain": [
       "0.9805297267831027"
      ]
     },
     "metadata": {},
     "output_type": "display_data"
    },
    {
     "data": {
      "text/plain": [
       "array([[5, 9, 5, 3],\n",
       "       [3, 5, 2, 8],\n",
       "       [3, 5, 8, 6]])"
      ]
     },
     "metadata": {},
     "output_type": "display_data"
    }
   ],
   "source": [
    "display(np.random.random())\n",
    "# display(np.random.randn(10,5,3)) # 3D 的亂數資料\n",
    "display(np.random.randint(1,10,size=(3,4)))"
   ]
  }
 ],
 "metadata": {
  "kernelspec": {
   "display_name": "Python 3",
   "language": "python",
   "name": "python3"
  },
  "language_info": {
   "codemirror_mode": {
    "name": "ipython",
    "version": 3
   },
   "file_extension": ".py",
   "mimetype": "text/x-python",
   "name": "python",
   "nbconvert_exporter": "python",
   "pygments_lexer": "ipython3",
   "version": "3.10.8"
  },
  "orig_nbformat": 4
 },
 "nbformat": 4,
 "nbformat_minor": 2
}
