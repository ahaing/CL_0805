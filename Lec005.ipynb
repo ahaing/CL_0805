import numpy as np
np.random.randint(50,100, size(50,5))