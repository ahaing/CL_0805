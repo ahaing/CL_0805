{
 "cells": [
  {
   "cell_type": "code",
   "execution_count": 2,
   "metadata": {},
   "outputs": [
    {
     "data": {
      "text/plain": [
       "array([[56, 79, 50, 78, 70],\n",
       "       [62, 56, 76, 50, 54],\n",
       "       [58, 99, 66, 56, 70],\n",
       "       [86, 83, 97, 98, 94],\n",
       "       [96, 53, 90, 85, 58],\n",
       "       [54, 57, 54, 89, 53],\n",
       "       [76, 91, 54, 68, 82],\n",
       "       [68, 61, 72, 65, 50],\n",
       "       [76, 65, 65, 72, 87],\n",
       "       [56, 86, 57, 57, 91],\n",
       "       [73, 55, 73, 77, 87],\n",
       "       [79, 98, 95, 62, 59],\n",
       "       [56, 50, 99, 61, 78],\n",
       "       [66, 64, 96, 94, 78],\n",
       "       [94, 91, 74, 83, 79],\n",
       "       [94, 99, 73, 81, 88],\n",
       "       [53, 65, 60, 51, 89],\n",
       "       [52, 83, 77, 52, 65],\n",
       "       [59, 59, 75, 55, 75],\n",
       "       [62, 70, 80, 58, 60],\n",
       "       [78, 84, 51, 72, 50],\n",
       "       [84, 97, 62, 60, 93],\n",
       "       [93, 57, 87, 52, 79],\n",
       "       [89, 56, 54, 96, 75],\n",
       "       [89, 80, 62, 64, 92],\n",
       "       [70, 66, 90, 68, 78],\n",
       "       [77, 56, 78, 51, 65],\n",
       "       [67, 83, 57, 62, 68],\n",
       "       [53, 90, 82, 54, 71],\n",
       "       [92, 95, 68, 51, 51],\n",
       "       [52, 68, 64, 57, 90],\n",
       "       [54, 87, 81, 73, 95],\n",
       "       [97, 68, 80, 52, 84],\n",
       "       [99, 92, 92, 74, 77],\n",
       "       [82, 81, 80, 53, 87],\n",
       "       [95, 87, 93, 81, 81],\n",
       "       [78, 68, 74, 61, 54],\n",
       "       [74, 67, 55, 75, 71],\n",
       "       [94, 77, 81, 58, 99],\n",
       "       [67, 54, 64, 87, 51],\n",
       "       [56, 76, 90, 77, 70],\n",
       "       [76, 80, 63, 82, 88],\n",
       "       [83, 86, 99, 54, 97],\n",
       "       [60, 69, 65, 53, 77],\n",
       "       [84, 59, 58, 62, 51],\n",
       "       [91, 84, 61, 79, 59],\n",
       "       [86, 57, 94, 59, 92],\n",
       "       [54, 71, 95, 62, 57],\n",
       "       [96, 68, 72, 87, 77],\n",
       "       [59, 75, 80, 61, 56]])"
      ]
     },
     "execution_count": 2,
     "metadata": {},
     "output_type": "execute_result"
    }
   ],
   "source": [
    "import numpy as np  # \n",
    "np.random.randint(50, 100, size=(50,5))"
   ]
  },
  {
   "cell_type": "code",
   "execution_count": null,
   "metadata": {},
   "outputs": [],
   "source": [
    "import numpy as np  # \n",
    "n1 = np.random.randint(50, 100, size=(10,))"
   ]
  },
  {
   "cell_type": "markdown",
   "metadata": {},
   "source": [
    "s# google 查 說明書:\n",
    "pandas.Series   # pandas 可以加索引  \n",
    "matplot  \n",
    "numpy reference  "
   ]
  },
  {
   "cell_type": "code",
   "execution_count": 9,
   "metadata": {},
   "outputs": [
    {
     "data": {
      "text/plain": [
       "student1     100240.001\n",
       "student2     100259.001\n",
       "student3     100284.001\n",
       "student4     100221.001\n",
       "student5     100283.001\n",
       "student6     100256.001\n",
       "student7     100210.001\n",
       "student8     100256.001\n",
       "student9     100239.001\n",
       "student10    100266.001\n",
       "dtype: float64"
      ]
     },
     "metadata": {},
     "output_type": "display_data"
    },
    {
     "data": {
      "text/plain": [
       "array([240, 259, 284, 221, 283, 256, 210, 256, 239, 266])"
      ]
     },
     "metadata": {},
     "output_type": "display_data"
    },
    {
     "data": {
      "text/plain": [
       "Index(['student1', 'student2', 'student3', 'student4', 'student5', 'student6',\n",
       "       'student7', 'student8', 'student9', 'student10'],\n",
       "      dtype='object')"
      ]
     },
     "metadata": {},
     "output_type": "display_data"
    }
   ],
   "source": [
    "import numpy as np\n",
    "import pandas as pd\n",
    "\n",
    "n1 = np.random.randint(200,300,size=(10,))\n",
    "# pd.Series(data=n1)\n",
    "# class pandas.Series(data=None, index=None, dtype=None, name=None, copy=None, fastpath=False)\n",
    "\n",
    "s1 = pd.Series(data=n1, index=[f\"student{i+1}\" for i in range(10)])  # comprehension ==> 用一行建立list\n",
    "display(s1+100000.001)\n",
    "display(s1.values)\n",
    "display(s1.index)\n",
    "# Series 底層用 numpy"
   ]
  }
 ],
 "metadata": {
  "kernelspec": {
   "display_name": "Python 3",
   "language": "python",
   "name": "python3"
  },
  "language_info": {
   "codemirror_mode": {
    "name": "ipython",
    "version": 3
   },
   "file_extension": ".py",
   "mimetype": "text/x-python",
   "name": "python",
   "nbconvert_exporter": "python",
   "pygments_lexer": "ipython3",
   "version": "3.10.8"
  },
  "orig_nbformat": 4
 },
 "nbformat": 4,
 "nbformat_minor": 2
}
